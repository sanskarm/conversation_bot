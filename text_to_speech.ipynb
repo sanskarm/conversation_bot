{
  "nbformat": 4,
  "nbformat_minor": 0,
  "metadata": {
    "colab": {
      "name": "Untitled5.ipynb",
      "provenance": []
    },
    "kernelspec": {
      "name": "python3",
      "display_name": "Python 3"
    }
  },
  "cells": [
    {
      "cell_type": "code",
      "metadata": {
        "id": "GK3hcKi8ak_I",
        "colab_type": "code",
        "colab": {
          "base_uri": "https://localhost:8080/",
          "height": 336
        },
        "outputId": "d5416f01-9027-493c-c7df-7f7f42796966"
      },
      "source": [
        "!pip install gTTS\n",
        "import os"
      ],
      "execution_count": 4,
      "outputs": [
        {
          "output_type": "stream",
          "text": [
            "Collecting gTTS\n",
            "  Downloading https://files.pythonhosted.org/packages/a1/0c/4ca77eca3b739a4a08360930643f58d714e302fee0d2f8c654e67d9af8e7/gTTS-2.1.1-py3-none-any.whl\n",
            "Requirement already satisfied: six in /usr/local/lib/python3.6/dist-packages (from gTTS) (1.12.0)\n",
            "Requirement already satisfied: click in /usr/local/lib/python3.6/dist-packages (from gTTS) (7.1.2)\n",
            "Requirement already satisfied: requests in /usr/local/lib/python3.6/dist-packages (from gTTS) (2.23.0)\n",
            "Requirement already satisfied: beautifulsoup4 in /usr/local/lib/python3.6/dist-packages (from gTTS) (4.6.3)\n",
            "Collecting gtts-token>=1.1.3\n",
            "  Downloading https://files.pythonhosted.org/packages/e7/25/ca6e9cd3275bfc3097fe6b06cc31db6d3dfaf32e032e0f73fead9c9a03ce/gTTS-token-1.1.3.tar.gz\n",
            "Requirement already satisfied: chardet<4,>=3.0.2 in /usr/local/lib/python3.6/dist-packages (from requests->gTTS) (3.0.4)\n",
            "Requirement already satisfied: idna<3,>=2.5 in /usr/local/lib/python3.6/dist-packages (from requests->gTTS) (2.9)\n",
            "Requirement already satisfied: urllib3!=1.25.0,!=1.25.1,<1.26,>=1.21.1 in /usr/local/lib/python3.6/dist-packages (from requests->gTTS) (1.24.3)\n",
            "Requirement already satisfied: certifi>=2017.4.17 in /usr/local/lib/python3.6/dist-packages (from requests->gTTS) (2020.6.20)\n",
            "Building wheels for collected packages: gtts-token\n",
            "  Building wheel for gtts-token (setup.py) ... \u001b[?25l\u001b[?25hdone\n",
            "  Created wheel for gtts-token: filename=gTTS_token-1.1.3-cp36-none-any.whl size=4097 sha256=7e538c96c867fdc4047078b54223ab41ebff23ac4175fd564547c6845af62132\n",
            "  Stored in directory: /root/.cache/pip/wheels/dd/11/61/33f7e51bf545e910552b2255eead2a7cd8ef54064b46dceb34\n",
            "Successfully built gtts-token\n",
            "Installing collected packages: gtts-token, gTTS\n",
            "Successfully installed gTTS-2.1.1 gtts-token-1.1.3\n"
          ],
          "name": "stdout"
        }
      ]
    },
    {
      "cell_type": "code",
      "metadata": {
        "id": "SV3FQXPwbq0_",
        "colab_type": "code",
        "colab": {}
      },
      "source": [
        "from gtts import gTTS\n",
        "from IPython.display import Audio\n",
        "from tempfile import TemporaryFile"
      ],
      "execution_count": 21,
      "outputs": []
    },
    {
      "cell_type": "code",
      "metadata": {
        "id": "ZCPkKbVYcLNt",
        "colab_type": "code",
        "colab": {}
      },
      "source": [
        "def play_sound(text):\n",
        "  sound_file = gTTS(text = text,lang='en',slow=False)\n",
        "  f = TemporaryFile()\n",
        "  sound_file.write_to_fp(f)\n",
        "  f.seek(0)\n",
        "  return (Audio(f.read(),autoplay=True))\n",
        "  f.close"
      ],
      "execution_count": 23,
      "outputs": []
    },
    {
      "cell_type": "code",
      "metadata": {
        "id": "9jT0YnHidAyG",
        "colab_type": "code",
        "colab": {
          "base_uri": "https://localhost:8080/",
          "height": 75
        },
        "outputId": "7dcc6edc-1a8f-45ea-9072-583485155d65"
      },
      "source": [
        "play_sound(\"text\")"
      ],
      "execution_count": 34,
      "outputs": [
        {
          "output_type": "execute_result",
          "data": {
            "text/html": [
              "\n",
              "                <audio controls=\"controls\" autoplay=\"autoplay\">\n",
              "                    <source src=\"data:audio/wav;base64,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\" type=\"audio/wav\" />\n",
              "                    Your browser does not support the audio element.\n",
              "                </audio>\n",
              "              "
            ],
            "text/plain": [
              "<IPython.lib.display.Audio object>"
            ]
          },
          "metadata": {
            "tags": []
          },
          "execution_count": 34
        }
      ]
    },
    {
      "cell_type": "code",
      "metadata": {
        "id": "IcYVcseDdILc",
        "colab_type": "code",
        "colab": {}
      },
      "source": [
        ""
      ],
      "execution_count": 30,
      "outputs": []
    }
  ]
}